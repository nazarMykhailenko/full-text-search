{
 "cells": [
  {
   "cell_type": "code",
   "execution_count": 88,
   "metadata": {},
   "outputs": [
    {
     "name": "stdout",
     "output_type": "stream",
     "text": [
      "0 0\n",
      "-1\n"
     ]
    }
   ],
   "source": [
    "nums = [1]\n",
    "\n",
    "def find(nums, target):\n",
    "\tl, r = 0, len(nums) - 1\n",
    "\n",
    "\twhile(l <= r):\n",
    "\t\tif(nums[l] <= nums[r]):\n",
    "\t\t\tprint(l, r)\n",
    "\t\t\twhile(l <= r):\n",
    "\t\t\t\tm = (l + r) // 2\n",
    "\t\t\t\tif(nums[m] > target):\n",
    "\t\t\t\t\tr = m - 1\n",
    "\t\t\t\telif(nums[m] < target):\n",
    "\t\t\t\t\tl = m + 1\n",
    "\t\t\t\telse:\n",
    "\t\t\t\t\treturn m\n",
    "\t\t\t\t\n",
    "\t\t\treturn -1\n",
    "\n",
    "\n",
    "\t\tm = (l + r) // 2\n",
    "\t\tif(nums[m] == target): return m\n",
    "\n",
    "\t\tif(target >= nums[l]):\n",
    "\t\t\t\tif(nums[m] > target):\n",
    "\t\t\t\t\tr = m - 1\n",
    "\t\t\t\telse:\n",
    "\t\t\t\t\tr = m + 1\n",
    "\t\telse:\n",
    "\t\t\tl = m + 1\n",
    "\n",
    "\treturn -1\n",
    "\n",
    "\n",
    "print(find(nums, 2))\n",
    "\t \n",
    "\t\n",
    "\n",
    "\t\t\n"
   ]
  },
  {
   "cell_type": "code",
   "execution_count": 19,
   "metadata": {},
   "outputs": [
    {
     "name": "stdout",
     "output_type": "stream",
     "text": [
      "0 6 3\n",
      "4 6 5\n",
      "4 4 4\n",
      "4\n"
     ]
    }
   ],
   "source": [
    "nums = [4,5,6,7,0,1,2]\n",
    "target = 0\n",
    "\n",
    "def find(nums, target):\n",
    "\tl, r = 0, len(nums) - 1\n",
    "\n",
    "\twhile(l <= r):\n",
    "\t\tm = (l + r) // 2\n",
    "\t\tprint(l, r, m)\n",
    "\n",
    "\t\tif(nums[m] == target): return m\n",
    "\n",
    "\t\tif(nums[l] <= nums[m]):\n",
    "\t\t\tif(nums[l] <= target < nums[m]):\n",
    "\t\t\t\tr = m - 1\n",
    "\t\t\telse:\n",
    "\t\t\t\tl = m + 1\n",
    "\n",
    "\t\telse:\n",
    "\t\t\tif(nums[m] < target <= nums[r]):\n",
    "\t\t\t\tl = m + 1 \n",
    "\t\t\telse:\n",
    "\t\t\t\tr = m - 1\n",
    "\n",
    "\treturn -1\n",
    "\n",
    "print(find(nums, target))\n",
    "\n",
    "\n"
   ]
  }
 ],
 "metadata": {
  "kernelspec": {
   "display_name": "Python 3",
   "language": "python",
   "name": "python3"
  },
  "language_info": {
   "codemirror_mode": {
    "name": "ipython",
    "version": 3
   },
   "file_extension": ".py",
   "mimetype": "text/x-python",
   "name": "python",
   "nbconvert_exporter": "python",
   "pygments_lexer": "ipython3",
   "version": "3.12.0"
  }
 },
 "nbformat": 4,
 "nbformat_minor": 2
}
