{
 "cells": [
  {
   "cell_type": "code",
   "execution_count": 2,
   "metadata": {},
   "outputs": [
    {
     "name": "stderr",
     "output_type": "stream",
     "text": [
      "c:\\Users\\Nazar\\AppData\\Local\\Programs\\Python\\Python312\\Lib\\site-packages\\tqdm\\auto.py:21: TqdmWarning: IProgress not found. Please update jupyter and ipywidgets. See https://ipywidgets.readthedocs.io/en/stable/user_install.html\n",
      "  from .autonotebook import tqdm as notebook_tqdm\n"
     ]
    }
   ],
   "source": [
    "from parse_articles import parse_articles\n",
    "from searcher import Searcher\n",
    "from utils.dictionary import dictionary"
   ]
  },
  {
   "cell_type": "code",
   "execution_count": 28,
   "metadata": {},
   "outputs": [
    {
     "ename": "ParseError",
     "evalue": "syntax error: line 1, column 0 (<string>)",
     "output_type": "error",
     "traceback": [
      "Traceback \u001b[1;36m(most recent call last)\u001b[0m:\n",
      "\u001b[0m  File \u001b[0;32m~\\AppData\\Roaming\\Python\\Python312\\site-packages\\IPython\\core\\interactiveshell.py:3550\u001b[0m in \u001b[0;35mrun_code\u001b[0m\n    exec(code_obj, self.user_global_ns, self.user_ns)\u001b[0m\n",
      "\u001b[0m  Cell \u001b[0;32mIn[28], line 5\u001b[0m\n    articles = parse_articles(NUM_TO_INDEX, FILEPATH)\u001b[0m\n",
      "\u001b[0m  File \u001b[0;32md:\\programming\\search\\parse_articles.py:18\u001b[0m in \u001b[0;35mparse_articles\u001b[0m\n    event = next(context)\u001b[0m\n",
      "\u001b[0m  File \u001b[0;32mc:\\Users\\Nazar\\AppData\\Local\\Programs\\Python\\Python312\\Lib\\xml\\etree\\ElementTree.py:1234\u001b[0m in \u001b[0;35miterator\u001b[0m\n    yield from pullparser.read_events()\u001b[0m\n",
      "\u001b[0m  File \u001b[0;32mc:\\Users\\Nazar\\AppData\\Local\\Programs\\Python\\Python312\\Lib\\xml\\etree\\ElementTree.py:1305\u001b[0m in \u001b[0;35mread_events\u001b[0m\n    raise event\u001b[0m\n",
      "\u001b[1;36m  File \u001b[1;32mc:\\Users\\Nazar\\AppData\\Local\\Programs\\Python\\Python312\\Lib\\xml\\etree\\ElementTree.py:1277\u001b[1;36m in \u001b[1;35mfeed\u001b[1;36m\n\u001b[1;33m    self._parser.feed(data)\u001b[1;36m\n",
      "\u001b[1;36m  File \u001b[1;32m<string>\u001b[1;36m\u001b[0m\n\u001b[1;31mParseError\u001b[0m\u001b[1;31m:\u001b[0m syntax error: line 1, column 0\n"
     ]
    }
   ],
   "source": [
    "NUM_TO_INDEX = 10000\n",
    "FILEPATH = './simplewiki-20230820-pages-articles-multistream.xml'\n",
    "TARGET = 'April'\n",
    "\n",
    "articles = parse_articles(NUM_TO_INDEX, FILEPATH)\n",
    "\n",
    "search_kennedy = Searcher(articles)\n",
    "\n",
    "search_kennedy.list_to_file(TARGET + '_list.txt')\n",
    "\n",
    "search_kennedy.set_keywords()\n",
    "\n",
    "print(search_kennedy.single_word_search(TARGET))\n"
   ]
  },
  {
   "cell_type": "code",
   "execution_count": 25,
   "metadata": {},
   "outputs": [
    {
     "ename": "ParseError",
     "evalue": "syntax error: line 1, column 0 (<string>)",
     "output_type": "error",
     "traceback": [
      "Traceback \u001b[1;36m(most recent call last)\u001b[0m:\n",
      "\u001b[0m  File \u001b[0;32m~\\AppData\\Roaming\\Python\\Python312\\site-packages\\IPython\\core\\interactiveshell.py:3550\u001b[0m in \u001b[0;35mrun_code\u001b[0m\n    exec(code_obj, self.user_global_ns, self.user_ns)\u001b[0m\n",
      "\u001b[0m  Cell \u001b[0;32mIn[25], line 4\u001b[0m\n    articles = parse_articles(NUM_TO_INDEX, FILEPATH)\u001b[0m\n",
      "\u001b[0m  File \u001b[0;32md:\\programming\\search\\parse_articles.py:18\u001b[0m in \u001b[0;35mparse_articles\u001b[0m\n    event = next(context)\u001b[0m\n",
      "\u001b[0m  File \u001b[0;32mc:\\Users\\Nazar\\AppData\\Local\\Programs\\Python\\Python312\\Lib\\xml\\etree\\ElementTree.py:1234\u001b[0m in \u001b[0;35miterator\u001b[0m\n    yield from pullparser.read_events()\u001b[0m\n",
      "\u001b[0m  File \u001b[0;32mc:\\Users\\Nazar\\AppData\\Local\\Programs\\Python\\Python312\\Lib\\xml\\etree\\ElementTree.py:1305\u001b[0m in \u001b[0;35mread_events\u001b[0m\n    raise event\u001b[0m\n",
      "\u001b[1;36m  File \u001b[1;32mc:\\Users\\Nazar\\AppData\\Local\\Programs\\Python\\Python312\\Lib\\xml\\etree\\ElementTree.py:1277\u001b[1;36m in \u001b[1;35mfeed\u001b[1;36m\n\u001b[1;33m    self._parser.feed(data)\u001b[1;36m\n",
      "\u001b[1;36m  File \u001b[1;32m<string>\u001b[1;36m\u001b[0m\n\u001b[1;31mParseError\u001b[0m\u001b[1;31m:\u001b[0m syntax error: line 1, column 0\n"
     ]
    }
   ],
   "source": [
    "NUM_TO_INDEX = 50100\n",
    "FILEPATH = './simplewiki-20230820-pages-articles-multistream.xml'\n",
    "\n",
    "\n",
    "articles = parse_articles(NUM_TO_INDEX, FILEPATH)"
   ]
  },
  {
   "cell_type": "code",
   "execution_count": null,
   "metadata": {},
   "outputs": [],
   "source": [
    "searcher = Searcher(articles)"
   ]
  },
  {
   "cell_type": "code",
   "execution_count": null,
   "metadata": {},
   "outputs": [],
   "source": [
    "searcher.list_to_file(FILEPATH)\n",
    "searcher.set_keywords()\n",
    "print(searcher.keywords[0])"
   ]
  },
  {
   "cell_type": "code",
   "execution_count": 14,
   "metadata": {},
   "outputs": [
    {
     "ename": "SyntaxError",
     "evalue": "unmatched ']' (3977335257.py, line 8)",
     "output_type": "error",
     "traceback": [
      "\u001b[1;36m  Cell \u001b[1;32mIn[14], line 8\u001b[1;36m\u001b[0m\n\u001b[1;33m    p ]= ^\u001b[0m\n\u001b[1;37m      ^\u001b[0m\n\u001b[1;31mSyntaxError\u001b[0m\u001b[1;31m:\u001b[0m unmatched ']'\n"
     ]
    }
   ],
   "source": [
    "# sasaha\n",
    "def generate_keywords(file_name) -> dict: \n",
    "\n",
    "  \n",
    "  keywords_map = defaultdict(set)\n",
    "  articles = []\n",
    "\n",
    "p ]= ^\n",
    "articles[6] = p + sizeof(elem)*6\n",
    "\n",
    "[6]\n",
    "\n",
    "test = () \n",
    "\n",
    "\n",
    "  index_to_article = {} {3: \"43\", }\n",
    "\n",
    "  with open(file_name, 'r', encoding='utf-8') as file:\n",
    "    articles = [line.strip() for line in file]\n",
    "    \n",
    "  for i, elem in enumerate(tqdm(articles)):\n",
    "    index_to_article[i] = elem\n",
    "    \n",
    "    elem_tokens = Tokenizer.tokenize(elem)\n",
    "    \n",
    "    for word in elem_tokens:\n",
    "      keywords_map[word].insert(i)\n",
    "\n",
    "      # if word in keywords_map:\n",
    "      #   prev_elem = keywords_map[word]\n",
    "\n",
    "      #   if isinstance(prev_elem, list):\n",
    "      #     prev_elem.append(elem)\n",
    "      #   else:\n",
    "      #     keywords_map[word] = [prev_elem, elem]\n",
    "      # else:\n",
    "      #           keywords_map[word] = elem\n",
    "  \n",
    "  return keywords_map"
   ]
  },
  {
   "cell_type": "code",
   "execution_count": null,
   "metadata": {},
   "outputs": [],
   "source": [
    "LENGTH = 20_000\n",
    "\n",
    "array = dictionary(LENGTH)\n",
    "\n",
    "array.append('this')\n",
    "array.append('is')\n",
    "array.append('a')\n",
    "array.append('cat')\n",
    "array.append('this')\n",
    "array.append('is')\n",
    "array.append('a')\n",
    "array.append('dog')\n",
    "\n",
    "pre_dict = array.invertArray()\n",
    "\n",
    "pre_dict\n"
   ]
  },
  {
   "cell_type": "code",
   "execution_count": 3,
   "metadata": {},
   "outputs": [
    {
     "name": "stdout",
     "output_type": "stream",
     "text": [
      "[('this', 2), ('is', 2), ('a', 2), ('cat', 1), ('dog', 1)]\n"
     ]
    }
   ],
   "source": [
    "from collections import Counter\n",
    "\n",
    "class DictionaryNew:\n",
    "\tdef __init__(self, length):\n",
    "\t\tself.counter = Counter()\n",
    "\n",
    "\tdef append(self, el):\n",
    "\t\tself.counter[el] += 1\n",
    "\n",
    "\tdef getTopK(self, k):\n",
    "\t\treturn self.counter.most_common(k)\n",
    "\n",
    "class Dictionary:\n",
    "\n",
    "\tdef __init__(self, length):\n",
    "\t\tself.value = {}\n",
    "\t\tself.invertedValue = {}\n",
    "\t\tself.length = length\n",
    "\n",
    "\tdef append(self, el):\n",
    "\t\tif(el in self.value):\n",
    "\t\t\tself.value[el] += 1\n",
    "\t\telse:\n",
    "\t\t\tself.value[el] = 1\n",
    "\t\t\n",
    "\t\tdef getTopK(self, k):\n",
    "\n",
    "\t\n",
    "\n",
    "LENGTH = 20_000\n",
    "\n",
    "array = DictionaryNew(LENGTH)\n",
    "\n",
    "array.append('this')\n",
    "array.append('is')\n",
    "array.append('a')\n",
    "array.append('cat')\n",
    "array.append('this')\n",
    "array.append('is')\n",
    "array.append('a')\n",
    "array.append('dog')\n",
    "\n",
    "print(array.getTopK(10))\n"
   ]
  }
 ],
 "metadata": {
  "kernelspec": {
   "display_name": "Python 3",
   "language": "python",
   "name": "python3"
  },
  "language_info": {
   "codemirror_mode": {
    "name": "ipython",
    "version": 3
   },
   "file_extension": ".py",
   "mimetype": "text/x-python",
   "name": "python",
   "nbconvert_exporter": "python",
   "pygments_lexer": "ipython3",
   "version": "3.12.0"
  }
 },
 "nbformat": 4,
 "nbformat_minor": 2
}
